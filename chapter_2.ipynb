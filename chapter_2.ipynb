{
 "cells": [
  {
   "cell_type": "markdown",
   "id": "inappropriate-network",
   "metadata": {},
   "source": [
    "### Глава 2: как сила корректирующих действий влияет на скорость и природу итераций"
   ]
  },
  {
   "cell_type": "code",
   "execution_count": null,
   "id": "unsigned-contrary",
   "metadata": {},
   "outputs": [],
   "source": [
    "import math\n",
    "import numpy as np\n",
    "\n",
    "r = 0.6 # reference value\n",
    "k = 170.0 #  gain factor: choose from interval [50.0, 175.0]\n",
    "\n",
    "def cache(size):\n",
    "    if size < 0:\n",
    "        hitrate = 0\n",
    "    elif size > 100:\n",
    "        hitrate = 1\n",
    "    else:\n",
    "        hitrate = size / 100.0\n",
    "    return hitrate\n",
    "\n",
    "vals = []\n",
    "\n",
    "y, c = 0, 0\n",
    "for t in range(50):\n",
    "    e = r - y\n",
    "    c += e\n",
    "    u = k * c\n",
    "    y = cache(u)\n",
    "    \n",
    "    vals.append([t, r, e, c, u, y])\n",
    "\n",
    "data = np.asarray(vals)\n"
   ]
  },
  {
   "cell_type": "markdown",
   "id": "criminal-olympus",
   "metadata": {},
   "source": [
    "Изменения размера кеша"
   ]
  },
  {
   "cell_type": "code",
   "execution_count": null,
   "id": "geological-blank",
   "metadata": {},
   "outputs": [],
   "source": [
    "from ch1.drawing import Drawing\n",
    "\n",
    "\n",
    "d = Drawing(data)\n",
    "d.labels('Time', 'Hit rate')\n",
    "\n",
    "d.xy(0, 5, 'o-', label='Cache size', color='black')\n",
    "d.xy(0, 1, 'o-', label='Setpoint', color='green')\n",
    "\n",
    "d.draw()\n"
   ]
  },
  {
   "cell_type": "markdown",
   "id": "liberal-electron",
   "metadata": {},
   "source": [
    "Изменения в размере ошибок"
   ]
  },
  {
   "cell_type": "code",
   "execution_count": null,
   "id": "sharing-seminar",
   "metadata": {},
   "outputs": [],
   "source": [
    "from ch1.drawing import Drawing\n",
    "\n",
    "\n",
    "d = Drawing(data)\n",
    "d.labels('Buffer size', 'Hit rate')\n",
    "\n",
    "d.xy(4, 5, 'x', label='Moment error', color='black')\n",
    "d.xy(4, 1, 'o-', label='Setpoint', color='green')\n",
    "\n",
    "d.draw()"
   ]
  },
  {
   "cell_type": "code",
   "execution_count": null,
   "id": "medium-selling",
   "metadata": {},
   "outputs": [],
   "source": []
  }
 ],
 "metadata": {
  "kernelspec": {
   "display_name": "Python 3",
   "language": "python",
   "name": "python3"
  },
  "language_info": {
   "codemirror_mode": {
    "name": "ipython",
    "version": 3
   },
   "file_extension": ".py",
   "mimetype": "text/x-python",
   "name": "python",
   "nbconvert_exporter": "python",
   "pygments_lexer": "ipython3",
   "version": "3.8.6"
  }
 },
 "nbformat": 4,
 "nbformat_minor": 5
}
