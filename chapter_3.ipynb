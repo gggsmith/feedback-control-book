{
 "cells": [
  {
   "cell_type": "markdown",
   "id": "invisible-contributor",
   "metadata": {},
   "source": [
    "### Глава 3: влияние задержек в feedback-loop-ах"
   ]
  },
  {
   "cell_type": "code",
   "execution_count": null,
   "id": "matched-snake",
   "metadata": {},
   "outputs": [],
   "source": [
    "import numpy as np\n",
    "\n",
    "r = 1.0 # setpoint\n",
    "k = 0.8 # controller gain\n",
    "\n",
    "u = 0\n",
    "c = 0\n",
    "\n",
    "vals = []\n",
    "\n",
    "for t in range(20):\n",
    "    y = u\n",
    "    e = r - y\n",
    "    c += e\n",
    "    u = k * e\n",
    "\n",
    "    vals.append([t, r, e, c, u, y])\n",
    "    \n",
    "data = np.asarray(vals)"
   ]
  },
  {
   "cell_type": "code",
   "execution_count": null,
   "id": "extreme-conservative",
   "metadata": {},
   "outputs": [],
   "source": [
    "from ch1.drawing import Drawing\n",
    "\n",
    "\n",
    "d = Drawing(data)\n",
    "d.labels('Time steps', 'Output y')\n",
    "\n",
    "d.xy(0, 5, 'o-', label='Output', color='red')\n",
    "d.xy(0, 1, 'o-', label='Setpoint', color='green')\n",
    "\n",
    "d.draw()\n"
   ]
  }
 ],
 "metadata": {
  "kernelspec": {
   "display_name": "Python 3",
   "language": "python",
   "name": "python3"
  },
  "language_info": {
   "codemirror_mode": {
    "name": "ipython",
    "version": 3
   },
   "file_extension": ".py",
   "mimetype": "text/x-python",
   "name": "python",
   "nbconvert_exporter": "python",
   "pygments_lexer": "ipython3",
   "version": "3.8.6"
  }
 },
 "nbformat": 4,
 "nbformat_minor": 5
}
