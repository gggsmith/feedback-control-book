{
 "cells": [
  {
   "cell_type": "markdown",
   "id": "mature-shame",
   "metadata": {},
   "source": [
    "### Глава 3: влияние задержек в feedback-loop-ах"
   ]
  },
  {
   "cell_type": "code",
   "execution_count": null,
   "id": "attractive-raise",
   "metadata": {},
   "outputs": [],
   "source": [
    "import numpy as np\n",
    "\n",
    "r = 1.0 # setpoint\n",
    "k = 0.8 # controller gain\n",
    "\n",
    "\n",
    "u = 0\n",
    "c = 0\n",
    "\n",
    "vals = []\n",
    "\n",
    "for t in range(20):\n",
    "    y = u\n",
    "    e = r - y\n",
    "    c += e\n",
    "    u = k * e\n",
    "\n",
    "    vals.append([t, r, e, c, u, y])\n",
    "    \n",
    "data = np.asarray(vals)"
   ]
  },
  {
   "cell_type": "code",
   "execution_count": null,
   "id": "inappropriate-purchase",
   "metadata": {},
   "outputs": [],
   "source": [
    "import matplotlib.pyplot as plt\n",
    "\n",
    "fig = plt.figure()\n",
    "fig.set_size_inches(15,10)\n",
    "axes = fig.add_axes([0,0,1,1])\n",
    "axes.set_xlabel('Time steps')\n",
    "axes.set_ylabel('Output y')\n",
    "\n",
    "axes.plot(data[:,0], data[:,5], \"o-\", label='Output', color='red')\n",
    "\n",
    "axes.plot(data[:,0], data[:,1], \"--\", label='Setpoint', color='green')\n",
    "\n",
    "axes.legend()\n",
    "\n",
    "plt.show()    \n"
   ]
  },
  {
   "cell_type": "code",
   "execution_count": null,
   "id": "defined-notion",
   "metadata": {},
   "outputs": [],
   "source": []
  }
 ],
 "metadata": {
  "kernelspec": {
   "display_name": "Python 3",
   "language": "python",
   "name": "python3"
  },
  "language_info": {
   "codemirror_mode": {
    "name": "ipython",
    "version": 3
   },
   "file_extension": ".py",
   "mimetype": "text/x-python",
   "name": "python",
   "nbconvert_exporter": "python",
   "pygments_lexer": "ipython3",
   "version": "3.8.6"
  }
 },
 "nbformat": 4,
 "nbformat_minor": 5
}
