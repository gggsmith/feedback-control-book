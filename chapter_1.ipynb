{
 "cells": [
  {
   "cell_type": "markdown",
   "id": "musical-ballet",
   "metadata": {},
   "source": [
    "### Глава 1: Простая симуляция наброса объектов в очередь с обработчиком в виде \"черного ящика\""
   ]
  },
  {
   "cell_type": "markdown",
   "id": "raised-check",
   "metadata": {},
   "source": [
    "Если набрасывать в очередь среднее количество обработанных элементов:\n"
   ]
  },
  {
   "cell_type": "code",
   "execution_count": null,
   "id": "vertical-poultry",
   "metadata": {},
   "outputs": [],
   "source": [
    "from ch1.drawing import Drawing\n",
    "\n",
    "def draw_data(data):\n",
    "    d = Drawing(data)\n",
    "    \n",
    "    # длина очереди после обработки\n",
    "    d.xy(0, 4, label='Queue Length', color='red')\n",
    "\n",
    "    # интерполяция на полиномах функции длины очереди от времени\n",
    "    d.trend(0, 4, power=15)\n",
    "\n",
    "    # к какой длине очереди стремимся\n",
    "    d.xy(0, 1, label='Taget', color='green')\n",
    "\n",
    "    d.draw()\n",
    "    "
   ]
  },
  {
   "cell_type": "code",
   "execution_count": null,
   "id": "static-doctrine",
   "metadata": {},
   "outputs": [],
   "source": [
    "import numpy as np\n",
    "\n",
    "def open_loop(p, tm = 5000):\n",
    "    def target(t):\n",
    "        return 4.5 # 4.7\n",
    "    \n",
    "    vals = []\n",
    "    for t in range(tm):\n",
    "        u = target(t)\n",
    "        y = p.work(u)\n",
    "        \n",
    "        vals.append([t, u, 0, u, y])\n",
    "    \n",
    "    return np.asarray(vals)"
   ]
  },
  {
   "cell_type": "code",
   "execution_count": null,
   "id": "vulnerable-aerospace",
   "metadata": {},
   "outputs": [],
   "source": [
    "from ch1.buffer import Buffer\n",
    "\n",
    "p = Buffer(50, 10)\n",
    "\n",
    "data = open_loop(p, 500)\n",
    "\n",
    "draw_data(data)"
   ]
  },
  {
   "cell_type": "markdown",
   "id": "suffering-format",
   "metadata": {},
   "source": [
    "Если использовать моментальную и кумулятивную ошибки:\n"
   ]
  },
  {
   "cell_type": "code",
   "execution_count": null,
   "id": "signal-column",
   "metadata": {},
   "outputs": [],
   "source": [
    "from ch1.buffer import Buffer\n",
    "from ch1.controller import Controller\n",
    "\n",
    "def closed_loop(c, p, tm = 5000):\n",
    "    \n",
    "    def setpoint(t):\n",
    "        if (t < 100): return 0\n",
    "        if (t < 200): return 25\n",
    "        if (t < 300): return 50\n",
    "        return 10\n",
    "    \n",
    "    vals = []\n",
    "    \n",
    "    y = 0\n",
    "    for t in range(tm):\n",
    "        r = setpoint(t)\n",
    "        e = r - y\n",
    "        u = c.work(e)\n",
    "        y = p.work(u)\n",
    "        \n",
    "        vals.append([t, r, e, u, y])\n",
    "    \n",
    "    return np.asarray(vals)\n",
    "\n",
    "c = Controller(1.25, 0.01)\n",
    "p = Buffer(50, 10)\n",
    "\n",
    "data = closed_loop(c, p, 500)\n",
    "\n",
    "draw_data(data)"
   ]
  },
  {
   "cell_type": "code",
   "execution_count": null,
   "id": "acquired-alfred",
   "metadata": {},
   "outputs": [],
   "source": []
  }
 ],
 "metadata": {
  "kernelspec": {
   "display_name": "Python 3",
   "language": "python",
   "name": "python3"
  },
  "language_info": {
   "codemirror_mode": {
    "name": "ipython",
    "version": 3
   },
   "file_extension": ".py",
   "mimetype": "text/x-python",
   "name": "python",
   "nbconvert_exporter": "python",
   "pygments_lexer": "ipython3",
   "version": "3.8.6"
  }
 },
 "nbformat": 4,
 "nbformat_minor": 5
}
