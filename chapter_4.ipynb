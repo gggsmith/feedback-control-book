{
 "cells": [
  {
   "cell_type": "markdown",
   "id": "wired-suffering",
   "metadata": {},
   "source": [
    "### Глава 4: Простая имплементация PID регулятора"
   ]
  },
  {
   "cell_type": "markdown",
   "id": "labeled-hollow",
   "metadata": {},
   "source": [
    "Чтобы поиграться этой простой имплементацией, использую пример из первой главы"
   ]
  },
  {
   "cell_type": "code",
   "execution_count": null,
   "id": "crude-merchandise",
   "metadata": {},
   "outputs": [],
   "source": [
    "import numpy as np\n",
    "\n",
    "from ch1.buffer import Buffer\n",
    "from ch4.controller import PidController\n",
    "from ch1.drawing import Drawing\n",
    "\n",
    "def closed_loop(c, p, tm = 5000):\n",
    "    \n",
    "    def setpoint(t):\n",
    "        if (t < 100): return 0\n",
    "        if (t < 200): return 25\n",
    "        if (t < 300): return 50\n",
    "        return 10\n",
    "    \n",
    "    vals = []\n",
    "    \n",
    "    y = 0\n",
    "    for t in range(tm):\n",
    "        r = setpoint(t)\n",
    "        e = r - y\n",
    "        u = c.work(e)\n",
    "        y = p.work(u)\n",
    "        \n",
    "        vals.append([t, r, e, u, y])\n",
    "    \n",
    "    return np.asarray(vals)\n",
    "\n",
    "p = Buffer(50, 10)\n",
    "c = PidController(1.15, 0.005, 0.008)\n",
    "\n",
    "data = closed_loop(c, p, 500)\n",
    "\n",
    "\n",
    "d = Drawing(data)\n",
    "\n",
    "d.xy(0, 4, '-', label='Queue Length', color='red')\n",
    "d.trend(0, 4, power=17)\n",
    "\n",
    "d.xy(0, 1, label='Setpoint', color='green')\n",
    "\n",
    "d.draw()"
   ]
  },
  {
   "cell_type": "code",
   "execution_count": null,
   "id": "inside-double",
   "metadata": {},
   "outputs": [],
   "source": []
  }
 ],
 "metadata": {
  "kernelspec": {
   "display_name": "Python 3",
   "language": "python",
   "name": "python3"
  },
  "language_info": {
   "codemirror_mode": {
    "name": "ipython",
    "version": 3
   },
   "file_extension": ".py",
   "mimetype": "text/x-python",
   "name": "python",
   "nbconvert_exporter": "python",
   "pygments_lexer": "ipython3",
   "version": "3.8.6"
  }
 },
 "nbformat": 4,
 "nbformat_minor": 5
}
