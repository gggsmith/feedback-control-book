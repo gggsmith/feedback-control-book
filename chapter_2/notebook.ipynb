{
 "cells": [
  {
   "cell_type": "markdown",
   "id": "sudden-origin",
   "metadata": {},
   "source": [
    "### Глава 2: как сила корректирующих действий влияет на скорость и природу итераций"
   ]
  },
  {
   "cell_type": "code",
   "execution_count": null,
   "id": "infinite-decline",
   "metadata": {},
   "outputs": [],
   "source": [
    "import math\n",
    "import numpy as np\n",
    "\n",
    "r = 0.6 # reference value\n",
    "k = 170.0 #  gain factor: choose from interval [50.0, 175.0]\n",
    "\n",
    "def cache(size):\n",
    "    if size < 0:\n",
    "        hitrate = 0\n",
    "    elif size > 100:\n",
    "        hitrate = 1\n",
    "    else:\n",
    "        hitrate = size / 100.0\n",
    "    return hitrate\n",
    "\n",
    "vals = []\n",
    "\n",
    "y, c = 0, 0\n",
    "for t in range(50):\n",
    "    e = r - y\n",
    "    c += e\n",
    "    u = k * c\n",
    "    y = cache(u)\n",
    "    \n",
    "    vals.append([t, r, e, c, u, y])\n",
    "\n",
    "data = np.asarray(vals)\n"
   ]
  },
  {
   "cell_type": "markdown",
   "id": "increased-inclusion",
   "metadata": {},
   "source": [
    "Изменения размера кеша"
   ]
  },
  {
   "cell_type": "code",
   "execution_count": null,
   "id": "unique-moore",
   "metadata": {},
   "outputs": [],
   "source": [
    "import matplotlib.pyplot as plt\n",
    "\n",
    "fig = plt.figure()\n",
    "fig.set_size_inches(15,10)\n",
    "axes = fig.add_axes([0,0,1,1])\n",
    "axes.set_xlabel('Time')\n",
    "axes.set_ylabel('Hit rate')\n",
    "\n",
    "axes.plot(data[:,0], data[:,5], \"o-\", label='Cache size', color='black')\n",
    "\n",
    "axes.plot(data[:,0], data[:,1], label='Setpoint', color='green')\n",
    "\n",
    "axes.legend()\n",
    "\n",
    "plt.show()    \n"
   ]
  },
  {
   "cell_type": "markdown",
   "id": "supported-directory",
   "metadata": {},
   "source": [
    "Изменения в размере ошибок"
   ]
  },
  {
   "cell_type": "code",
   "execution_count": null,
   "id": "optical-macintosh",
   "metadata": {},
   "outputs": [],
   "source": [
    "import matplotlib.pyplot as plt\n",
    "\n",
    "fig = plt.figure()\n",
    "fig.set_size_inches(15,10)\n",
    "axes = fig.add_axes([0,0,1,1])\n",
    "axes.set_xlabel('Buffer size')\n",
    "axes.set_ylabel('Hit rate')\n",
    "\n",
    "axes.plot(data[:,4], data[:,5], \"x\", label='Moment error', color='black')\n",
    "\n",
    "axes.plot(data[:,4], data[:,1], label='Setpoint', color='green')\n",
    "\n",
    "axes.legend()\n",
    "\n",
    "plt.show()    \n"
   ]
  }
 ],
 "metadata": {
  "kernelspec": {
   "display_name": "Python 3",
   "language": "python",
   "name": "python3"
  },
  "language_info": {
   "codemirror_mode": {
    "name": "ipython",
    "version": 3
   },
   "file_extension": ".py",
   "mimetype": "text/x-python",
   "name": "python",
   "nbconvert_exporter": "python",
   "pygments_lexer": "ipython3",
   "version": "3.8.6"
  }
 },
 "nbformat": 4,
 "nbformat_minor": 5
}
